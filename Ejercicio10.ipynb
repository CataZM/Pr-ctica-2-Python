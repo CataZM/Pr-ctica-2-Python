{
 "cells": [
  {
   "cell_type": "markdown",
   "metadata": {},
   "source": [
    "Para este programa se está usando la versión 3.10.4 de Python, y los archivos a utilizar están incluídos en la carpeta \"Entrega Práctica 3\" del repositorio. Los archivos son \"nombre_1.txt\", \"notas1.txt\" y \"notas2.txt\". El ejercicio realizado es el 10 de la práctica 2.            CONSIGNA:\n",
    "Trabajando con los contenidos de los archivos que pueden acceder en el curso, manipule estos archivos para realizar lo siguiente:\n",
    "• Generar una estructura con los nombres de los estudiantes y la suma de ambas notas.\n",
    "• Calcular el promedio de las notas totales e informar que alumnos obtuvieron menos que el promedio."
   ]
  },
  {
   "cell_type": "markdown",
   "metadata": {},
   "source": [
    "*Nota: Para cada estructura/variable se le corresponde un print comentado en el cuadro de código donde fue creada. Esto es sólo para comprobar si la definición o cálculo fueron correctos, a excepción de los casos de la estructura generada para el inciso A y el contador del inciso B.*"
   ]
  },
  {
   "cell_type": "markdown",
   "metadata": {},
   "source": [
    "En primer lugar, abrimos los archivos en las variables que vamos a usar para los mismos."
   ]
  },
  {
   "cell_type": "code",
   "execution_count": 174,
   "metadata": {},
   "outputs": [],
   "source": [
    "nombres = open(\"nombres_1.txt\",'r',encoding='UTF-8')\n",
    "eval1 = open(\"eval1.txt\",'r',encoding='UTF-8')\n",
    "eval2 = open(\"eval2.txt\",'r',encoding='UTF-8')"
   ]
  },
  {
   "cell_type": "markdown",
   "metadata": {},
   "source": [
    "Creamos la lista de nombres iterando por cada línea del archivo nombres_1.txt eliminando de la misma los caracteres \",\\n' \" y las listas de notas iterando por los archivos eval1.txt y eval2.txt eliminando los caracteres \",\\n \""
   ]
  },
  {
   "cell_type": "code",
   "execution_count": 175,
   "metadata": {},
   "outputs": [],
   "source": [
    "lista_nombres = [nombre.strip(',\\n\\' ') for nombre in nombres]\n",
    "#print(lista_nombres)\n",
    "\n",
    "lista_notas1 = [nota.strip(',\\n ') for nota in eval1]\n",
    "#print(lista_notas1)\n",
    "\n",
    "lista_notas2 = [nota.strip(',\\n ') for nota in eval2]\n",
    "#print(lista_notas2)"
   ]
  },
  {
   "cell_type": "markdown",
   "metadata": {},
   "source": [
    "Apartir de estas tres listas, podemos crear la estructura solicitada en el enunciado, la cual va a ser un diccionario con los nombres como claves y la suma de ambas notas como valor."
   ]
  },
  {
   "cell_type": "code",
   "execution_count": 176,
   "metadata": {},
   "outputs": [
    {
     "name": "stdout",
     "output_type": "stream",
     "text": [
      "{'Agustin': 111, 'Alan': 155, 'Andrés': 100, 'Ariadna': 108, 'Bautista': 99, 'CAROLINA': 134, 'CESAR': 78, 'David': 121, 'Diego': 33, 'Dolores': 53, 'DYLAN': 74, 'ELIANA': 13, 'Emanuel': 48, 'Fabián': 101, 'Facundo': 128, 'FEDERICO': 106, 'GONZALO': 76, 'Gregorio': 90, 'Ignacio': 21, 'Jonathan': 62, 'Jorge': 79, 'JOSE': 100, 'JUAN': 68, 'Juan': 112, 'Julian': 87, 'Julieta': 146, 'LAUTARO': 148, 'Leonel': 55, 'LUIS': 140, 'Luis': 109, 'Marcos': 103, 'María': 110, 'MATEO': 137, 'Matias': 114, 'Nicolás': 65, 'NICOLÁS': 22, 'Noelia': 105, 'Pablo': 99, 'Priscila': 24, 'TOMAS': 139, 'Tomás': 126, 'Ulises': 120, 'Yanina': 84}\n"
     ]
    }
   ],
   "source": [
    "diccionario_nombres_y_notas = {}\n",
    "for i in range(len(lista_nombres)):\n",
    "    diccionario_nombres_y_notas[lista_nombres[i]] = int(lista_notas1[i]) + int(lista_notas2[i])\n",
    "\n",
    "print(diccionario_nombres_y_notas)"
   ]
  },
  {
   "cell_type": "markdown",
   "metadata": {},
   "source": [
    "Calculamos el promedio acumulando en una variable la suma de las notas, la cual obtenemos iterando por los valores del diccionario."
   ]
  },
  {
   "cell_type": "code",
   "execution_count": 177,
   "metadata": {},
   "outputs": [],
   "source": [
    "suma_notas = 0\n",
    "for alumno in diccionario_nombres_y_notas:\n",
    "    suma_notas = suma_notas + diccionario_nombres_y_notas[alumno]\n",
    "\n",
    "promedio_notas = suma_notas / len(diccionario_nombres_y_notas)\n",
    "\n",
    "#print(promedio_notas)"
   ]
  },
  {
   "cell_type": "markdown",
   "metadata": {},
   "source": [
    "Una vez calculado el promedio de las notas totales, recorremos el diccionario comprobando para cada alumno si su promedio es inferior al total. Si es el caso, sumamos un alumno al contado."
   ]
  },
  {
   "cell_type": "code",
   "execution_count": 178,
   "metadata": {},
   "outputs": [
    {
     "name": "stdout",
     "output_type": "stream",
     "text": [
      "43\n"
     ]
    }
   ],
   "source": [
    "cantidad_alumnos_bajo_promedio_total = 0\n",
    "for alumno in diccionario_nombres_y_notas:\n",
    "    if diccionario_nombres_y_notas[alumno]/2 < promedio_notas:\n",
    "        cantidad_alumnos_bajo_promedio_total = cantidad_alumnos_bajo_promedio_total + 1\n",
    "\n",
    "print(cantidad_alumnos_bajo_promedio_total)"
   ]
  },
  {
   "cell_type": "markdown",
   "metadata": {},
   "source": [
    "Finalizamos el programa cerrando los archivos."
   ]
  },
  {
   "cell_type": "code",
   "execution_count": 179,
   "metadata": {},
   "outputs": [],
   "source": [
    "nombres.close()\n",
    "eval1.close()\n",
    "eval2.close()"
   ]
  }
 ],
 "metadata": {
  "interpreter": {
   "hash": "df59b04e9978eb50557051abc32c5ae29d7f79906771ab2cd828a013e4cdf466"
  },
  "kernelspec": {
   "display_name": "Python 3.10.4 64-bit",
   "language": "python",
   "name": "python3"
  },
  "language_info": {
   "codemirror_mode": {
    "name": "ipython",
    "version": 3
   },
   "file_extension": ".py",
   "mimetype": "text/x-python",
   "name": "python",
   "nbconvert_exporter": "python",
   "pygments_lexer": "ipython3",
   "version": "3.10.4"
  },
  "orig_nbformat": 4
 },
 "nbformat": 4,
 "nbformat_minor": 2
}
